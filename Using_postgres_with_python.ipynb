{
 "cells": [
  {
   "cell_type": "code",
   "execution_count": 1,
   "id": "7968bf3d-aaae-4913-82f0-2e9bc0dd9340",
   "metadata": {},
   "outputs": [
    {
     "name": "stdout",
     "output_type": "stream",
     "text": [
      "Collecting psycopg2\n",
      "  Downloading psycopg2-2.9.9-cp312-cp312-win_amd64.whl.metadata (4.5 kB)\n",
      "Downloading psycopg2-2.9.9-cp312-cp312-win_amd64.whl (1.2 MB)\n",
      "   ---------------------------------------- 0.0/1.2 MB ? eta -:--:--\n",
      "   ---------------------------------------- 0.0/1.2 MB ? eta -:--:--\n",
      "   ---------------------------------------- 0.0/1.2 MB ? eta -:--:--\n",
      "   - -------------------------------------- 0.0/1.2 MB 660.6 kB/s eta 0:00:02\n",
      "   ---- ----------------------------------- 0.1/1.2 MB 1.4 MB/s eta 0:00:01\n",
      "   -------------------- ------------------- 0.6/1.2 MB 4.2 MB/s eta 0:00:01\n",
      "   ---------------------------------------  1.2/1.2 MB 6.7 MB/s eta 0:00:01\n",
      "   ---------------------------------------- 1.2/1.2 MB 5.7 MB/s eta 0:00:00\n",
      "Installing collected packages: psycopg2\n",
      "Successfully installed psycopg2-2.9.9\n"
     ]
    }
   ],
   "source": [
    "!pip install psycopg2"
   ]
  },
  {
   "cell_type": "markdown",
   "id": "d443771e-6a8d-4449-9712-f54df9eb6cf8",
   "metadata": {},
   "source": [
    "Import PostregSQL library"
   ]
  },
  {
   "cell_type": "code",
   "execution_count": 3,
   "id": "425f6025-8e73-4c99-935e-628ed7b7b7a3",
   "metadata": {},
   "outputs": [],
   "source": [
    "import psycopg2"
   ]
  },
  {
   "cell_type": "markdown",
   "id": "0f716e5d-eb8e-4382-8b6f-ca9b49b52ea8",
   "metadata": {},
   "source": [
    "Create a connection"
   ]
  },
  {
   "cell_type": "code",
   "execution_count": 23,
   "id": "924242c2-9bfb-4ffa-9bf9-694fa80b6d9f",
   "metadata": {},
   "outputs": [],
   "source": [
    "try:\n",
    "    conn = psycopg2.connect(\"host = 127.0.0.1 dbname = postgres user = postgres password = root\")\n",
    "except psycopg2.Error as e:\n",
    "    print(\"Failed to connect to database\")\n",
    "    print(e)"
   ]
  },
  {
   "cell_type": "markdown",
   "id": "9af4e0df-f042-420c-a22f-c0cf6cd31789",
   "metadata": {},
   "source": [
    "Initialize a Curser (This alows  us to query)"
   ]
  },
  {
   "cell_type": "code",
   "execution_count": 27,
   "id": "86f41e41-7aee-469a-8ac1-0f5337c70764",
   "metadata": {},
   "outputs": [],
   "source": [
    "try:\n",
    "    cur = conn.cursor()\n",
    "except psycopg2.Error as e:\n",
    "    print(e)"
   ]
  },
  {
   "cell_type": "code",
   "execution_count": null,
   "id": "ce48b1d0-cf8c-45d6-a1a5-d4c0add89abc",
   "metadata": {},
   "outputs": [],
   "source": [
    "conn.set_session(autocommit = True)"
   ]
  },
  {
   "cell_type": "markdown",
   "id": "74e47b8d-0251-4252-a6a5-0c35699c5a3d",
   "metadata": {},
   "source": [
    "Create a database"
   ]
  },
  {
   "cell_type": "code",
   "execution_count": null,
   "id": "e77c9821-351e-42cd-bec1-d9c5f801903d",
   "metadata": {},
   "outputs": [],
   "source": [
    "try:\n",
    "    cur.execute(\"CREATE DATABASE myfirstdb\")\n",
    "except psycopg2.Error as e:\n",
    "    print(e)"
   ]
  },
  {
   "cell_type": "markdown",
   "id": "1b0ec837-3241-4f9a-baa5-acbf144936dd",
   "metadata": {},
   "source": [
    "Close  your curser and connection"
   ]
  },
  {
   "cell_type": "code",
   "execution_count": 37,
   "id": "58dd3009-c181-4a99-9165-0488f1b4e640",
   "metadata": {},
   "outputs": [],
   "source": [
    "cur.close()\n",
    "conn.close()"
   ]
  },
  {
   "cell_type": "markdown",
   "id": "0fed1cab-481e-4cba-b334-c4690fcfe5e7",
   "metadata": {},
   "source": [
    "Connect again"
   ]
  },
  {
   "cell_type": "code",
   "execution_count": 41,
   "id": "a532615c-c7d4-4def-a04b-a00b5a8f6cc1",
   "metadata": {},
   "outputs": [],
   "source": [
    "try:\n",
    "    conn = psycopg2.connect(\"host = 127.0.0.1 dbname = myfirstdb user = postgres password = root\")\n",
    "except psycopg2.Error as e:\n",
    "    print(e)\n",
    "\n",
    "cur = conn.cursor()\n",
    "conn.set_session(autocommit = True)"
   ]
  },
  {
   "cell_type": "markdown",
   "id": "3c1f90af-9cd5-41d6-bc47-397cfeda618c",
   "metadata": {},
   "source": [
    "Create a table"
   ]
  },
  {
   "cell_type": "code",
   "execution_count": 54,
   "id": "a74d5540-1ee4-4d67-9c19-0e934075d100",
   "metadata": {},
   "outputs": [],
   "source": [
    "try:\n",
    "    cur.execute(\"CREATE TABLE IF NOT EXISTS students (student_id int, name varchar,\\\n",
    "                    age int, gender varchar, subject varchar, marks int);\")\n",
    "except psycopg2.Error as e:\n",
    "    print(e)"
   ]
  },
  {
   "cell_type": "markdown",
   "id": "49b10868-1c8d-4b87-a5f3-56c10f675c37",
   "metadata": {},
   "source": [
    "Insert into table"
   ]
  },
  {
   "cell_type": "code",
   "execution_count": 66,
   "id": "66d65c35-e5f2-4693-82dc-64941f83a71e",
   "metadata": {},
   "outputs": [],
   "source": [
    "try:\n",
    "    cur.execute(\"INSERT INTO students(student_id, name,age, gender,subject,marks)\\\n",
    "                Values(%s, %s, %s, %s, %s, %s)\",\n",
    "               (1,\"Raj\", 23, \"Male\", \"Python\", 92))\n",
    "\n",
    "except psycopg2.Error as e:\n",
    "    print(e)\n"
   ]
  },
  {
   "cell_type": "code",
   "execution_count": 74,
   "id": "3e7cf4e8-37c9-48d5-9ca1-41b9add6a463",
   "metadata": {},
   "outputs": [],
   "source": [
    "\n",
    "cur.execute(\"INSERT INTO students(student_id, name, age, gender, subject, marks)\\\n",
    "                Values(%s, %s, %s, %s, %s, %s)\",\n",
    "               (2, \"Priya\", 23,\"Female\", \"Python\", 90))\n"
   ]
  },
  {
   "cell_type": "code",
   "execution_count": 76,
   "id": "c44ff641-2113-4ad9-a95f-cd6a57111bfe",
   "metadata": {},
   "outputs": [],
   "source": [
    "cur.execute(\"SELECT * FROM students;\")\n",
    "row = cur.featchone()"
   ]
  },
  {
   "cell_type": "code",
   "execution_count": null,
   "id": "d29244ea-0cfb-4254-aa9e-f3efc485f7c8",
   "metadata": {},
   "outputs": [],
   "source": [
    "cur.close()\n",
    "conn.close()"
   ]
  },
  {
   "cell_type": "code",
   "execution_count": null,
   "id": "7a24a239-4faa-4afd-a1f2-7115986e2820",
   "metadata": {},
   "outputs": [],
   "source": []
  }
 ],
 "metadata": {
  "kernelspec": {
   "display_name": "Python 3 (ipykernel)",
   "language": "python",
   "name": "python3"
  },
  "language_info": {
   "codemirror_mode": {
    "name": "ipython",
    "version": 3
   },
   "file_extension": ".py",
   "mimetype": "text/x-python",
   "name": "python",
   "nbconvert_exporter": "python",
   "pygments_lexer": "ipython3",
   "version": "3.12.4"
  }
 },
 "nbformat": 4,
 "nbformat_minor": 5
}
